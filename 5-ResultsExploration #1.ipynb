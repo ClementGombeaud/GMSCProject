{
 "cells": [
  {
   "cell_type": "markdown",
   "metadata": {},
   "source": [
    "# Give Me Some Credits"
   ]
  },
  {
   "cell_type": "markdown",
   "metadata": {},
   "source": [
    "# 5 - Results exploration #1"
   ]
  },
  {
   "cell_type": "markdown",
   "metadata": {},
   "source": [
    "### Confusion Matrix"
   ]
  },
  {
   "cell_type": "markdown",
   "metadata": {},
   "source": [
    "* Définition de la colonne probabilité en fonction du seuil"
   ]
  },
  {
   "cell_type": "code",
   "execution_count": 1,
   "metadata": {},
   "outputs": [],
   "source": [
    "from bigml.api import BigML\n",
    "from pandas import read_csv\n",
    "\n",
    "df = read_csv('BatchPrediction/GMSC_Prediction_Ensemble.csv')\n",
    "df.columns.values[-2] = \"prob\"\n",
    "seuil = 0.5\n",
    "df.loc[df.prob >= seuil, 'predict'] = 0\n",
    "df.loc[df.prob < seuil, 'predict'] = 1"
   ]
  },
  {
   "cell_type": "markdown",
   "metadata": {},
   "source": [
    "* Création de la Matrice de confusion "
   ]
  },
  {
   "cell_type": "code",
   "execution_count": 2,
   "metadata": {},
   "outputs": [],
   "source": [
    "df.loc[(df.predict==0) & (df.SeriousDlqin2yrs==0), 'confusion'] = \"TN\"\n",
    "df.loc[(df.predict==0) & (df.SeriousDlqin2yrs==1), 'confusion'] = \"FN\"\n",
    "df.loc[(df.predict==1) & (df.SeriousDlqin2yrs==0), 'confusion'] = \"FP\"\n",
    "df.loc[(df.predict==1) & (df.SeriousDlqin2yrs==1), 'confusion'] = \"TP\""
   ]
  },
  {
   "cell_type": "markdown",
   "metadata": {},
   "source": [
    "* Décompte des valeurs de confusion"
   ]
  },
  {
   "cell_type": "code",
   "execution_count": 3,
   "metadata": {},
   "outputs": [
    {
     "name": "stdout",
     "output_type": "stream",
     "text": [
      "TP: 332 TN: 27747 FP: 238 FN: 1683\n"
     ]
    }
   ],
   "source": [
    "err = list(df.confusion.values)\n",
    "TP = err.count('TP')\n",
    "TN = err.count('TN')\n",
    "FP = err.count('FP')\n",
    "FN = err.count('FN')\n",
    "\n",
    "print(\"TP:\",TP, \"TN:\",TN, \"FP:\", FP, \"FN:\",FN)"
   ]
  },
  {
   "cell_type": "code",
   "execution_count": 4,
   "metadata": {},
   "outputs": [
    {
     "name": "stdout",
     "output_type": "stream",
     "text": [
      "Stored 'TP' (int)\n",
      "Stored 'TN' (int)\n",
      "Stored 'FP' (int)\n",
      "Stored 'FN' (int)\n"
     ]
    }
   ],
   "source": [
    "%store TP\n",
    "%store TN\n",
    "%store FP\n",
    "%store FN"
   ]
  }
 ],
 "metadata": {
  "kernelspec": {
   "display_name": "Python 3",
   "language": "python",
   "name": "python3"
  },
  "language_info": {
   "codemirror_mode": {
    "name": "ipython",
    "version": 3
   },
   "file_extension": ".py",
   "mimetype": "text/x-python",
   "name": "python",
   "nbconvert_exporter": "python",
   "pygments_lexer": "ipython3",
   "version": "3.7.3"
  }
 },
 "nbformat": 4,
 "nbformat_minor": 2
}
