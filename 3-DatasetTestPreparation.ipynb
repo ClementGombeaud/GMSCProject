{
 "cells": [
  {
   "cell_type": "markdown",
   "metadata": {},
   "source": [
    "# Give Me Some Credits"
   ]
  },
  {
   "cell_type": "markdown",
   "metadata": {},
   "source": [
    "# 3 - Test Dataset preparation"
   ]
  },
  {
   "cell_type": "markdown",
   "metadata": {},
   "source": [
    "* Import et modification du Dataset Test"
   ]
  },
  {
   "cell_type": "code",
   "execution_count": 1,
   "metadata": {},
   "outputs": [],
   "source": [
    "from bigml.api import BigML\n",
    "from pandas import read_csv\n",
    "\n",
    "# IMPORT DU FICHIER BASE\n",
    "\n",
    "df2 = read_csv('https://oml-data.s3.amazonaws.com/kaggle-give-me-credit-test.csv')\n",
    "\n",
    "# MODIFICATION DU DATASET\n",
    "\n",
    "df2 = df2.fillna(0) \n",
    "df2['MonthlyPerPerson'] = df2['MonthlyIncome'] / ( df2['NumberOfDependents'] + 1 )\n",
    "df2.loc[df2.age > 80, 'isOld'] = '1' \n",
    "df2.loc[df2.age <= 80, 'isOld'] = '0'\n",
    "df2['Monthlydebt'] = df2['DebtRatio'] *  df2['MonthlyIncome']\n",
    "df2['LatePayment'] = df2['NumberOfTime30-59DaysPastDueNotWorse'] + df2['NumberOfTimes90DaysLate'] + df2['NumberOfTime60-89DaysPastDueNotWorse']\n",
    "df2['NumberOfCredits'] = df2['NumberRealEstateLoansOrLines'] + df2['NumberOfOpenCreditLinesAndLoans']\n",
    "\n",
    "df2.to_csv('KaggleGMSC.csv')"
   ]
  },
  {
   "cell_type": "markdown",
   "metadata": {},
   "source": [
    "* Création de la source et du Dataset modifié"
   ]
  },
  {
   "cell_type": "code",
   "execution_count": 2,
   "metadata": {},
   "outputs": [
    {
     "data": {
      "text/plain": [
       "True"
      ]
     },
     "execution_count": 2,
     "metadata": {},
     "output_type": "execute_result"
    }
   ],
   "source": [
    "# SOURCE\n",
    "\n",
    "api = BigML(project='project/5d94a3e85a213962e2000304')\n",
    "source = api.create_source('KaggleGMSC.csv')\n",
    "api.ok(source)\n",
    "\n",
    "# DATASET\n",
    "\n",
    "kaggle_dataset = api.create_dataset(source)\n",
    "api.ok(kaggle_dataset)"
   ]
  },
  {
   "cell_type": "code",
   "execution_count": 3,
   "metadata": {},
   "outputs": [
    {
     "name": "stdout",
     "output_type": "stream",
     "text": [
      "Stored 'kaggle_dataset' (dict)\n"
     ]
    }
   ],
   "source": [
    "%store kaggle_dataset"
   ]
  }
 ],
 "metadata": {
  "kernelspec": {
   "display_name": "Python 3",
   "language": "python",
   "name": "python3"
  },
  "language_info": {
   "codemirror_mode": {
    "name": "ipython",
    "version": 3
   },
   "file_extension": ".py",
   "mimetype": "text/x-python",
   "name": "python",
   "nbconvert_exporter": "python",
   "pygments_lexer": "ipython3",
   "version": "3.7.3"
  }
 },
 "nbformat": 4,
 "nbformat_minor": 2
}
