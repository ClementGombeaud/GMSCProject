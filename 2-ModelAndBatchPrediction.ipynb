{
 "cells": [
  {
   "cell_type": "markdown",
   "metadata": {},
   "source": [
    "# Give Me Some Credits"
   ]
  },
  {
   "cell_type": "markdown",
   "metadata": {},
   "source": [
    "# 2 - Model and Batch prediction"
   ]
  },
  {
   "cell_type": "markdown",
   "metadata": {},
   "source": [
    "* Création du Model (Ensemble)"
   ]
  },
  {
   "cell_type": "code",
   "execution_count": 8,
   "metadata": {},
   "outputs": [],
   "source": [
    "from bigml.api import BigML\n",
    "from pandas import read_csv\n",
    "api = BigML(project='project/5d94a3e85a213962e2000304')\n",
    "%store -r train_dataset\n",
    "%store -r test_dataset"
   ]
  },
  {
   "cell_type": "code",
   "execution_count": 9,
   "metadata": {},
   "outputs": [],
   "source": [
    "# MODELE\n",
    "\n",
    "ensemble = api.create_ensemble(train_dataset , {\"objective_field\" : \"SeriousDlqin2yrs\"})\n",
    "\n",
    "evaluation = api.create_evaluation(ensemble, test_dataset)"
   ]
  },
  {
   "cell_type": "code",
   "execution_count": 11,
   "metadata": {},
   "outputs": [
    {
     "name": "stdout",
     "output_type": "stream",
     "text": [
      "Stored 'ensemble' (dict)\n"
     ]
    }
   ],
   "source": [
    "%store ensemble"
   ]
  },
  {
   "cell_type": "markdown",
   "metadata": {},
   "source": [
    "* \"Batch\" predition et enregistrement du CSV"
   ]
  },
  {
   "cell_type": "code",
   "execution_count": 10,
   "metadata": {},
   "outputs": [
    {
     "data": {
      "text/plain": [
       "'BatchPrediction/GMSC_Prediction_Ensemble.csv'"
      ]
     },
     "execution_count": 10,
     "metadata": {},
     "output_type": "execute_result"
    }
   ],
   "source": [
    "# BATCH PREDICTION \n",
    "batch_prediction = api.create_batch_prediction(ensemble, test_dataset,{\"all_fields\": True,\n",
    "                                                                        \"header\": True,\n",
    "                                                                      \"confidence\": True,\n",
    "                                                                      \"probabilities\":True})\n",
    "api.ok(batch_prediction)\n",
    "\n",
    "# FICHIER CSV\n",
    "\n",
    "api.download_batch_prediction(batch_prediction, filename='BatchPrediction/GMSC_Prediction_Ensemble.csv')"
   ]
  }
 ],
 "metadata": {
  "kernelspec": {
   "display_name": "Python 3",
   "language": "python",
   "name": "python3"
  },
  "language_info": {
   "codemirror_mode": {
    "name": "ipython",
    "version": 3
   },
   "file_extension": ".py",
   "mimetype": "text/x-python",
   "name": "python",
   "nbconvert_exporter": "python",
   "pygments_lexer": "ipython3",
   "version": "3.7.3"
  }
 },
 "nbformat": 4,
 "nbformat_minor": 2
}
