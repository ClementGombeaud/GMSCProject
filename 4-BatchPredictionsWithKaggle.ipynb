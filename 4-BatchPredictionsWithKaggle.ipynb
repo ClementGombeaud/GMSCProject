{
 "cells": [
  {
   "cell_type": "markdown",
   "metadata": {},
   "source": [
    "# Give Me Some Credits"
   ]
  },
  {
   "cell_type": "markdown",
   "metadata": {},
   "source": [
    "# 4 - Batch Predictions with Kaggle"
   ]
  },
  {
   "cell_type": "markdown",
   "metadata": {},
   "source": [
    "* Confrontation Ensemble et Dataset Test"
   ]
  },
  {
   "cell_type": "code",
   "execution_count": 2,
   "metadata": {},
   "outputs": [
    {
     "data": {
      "text/plain": [
       "True"
      ]
     },
     "execution_count": 2,
     "metadata": {},
     "output_type": "execute_result"
    }
   ],
   "source": [
    "from bigml.api import BigML\n",
    "from pandas import read_csv\n",
    "api = BigML(project='project/5d94a3e85a213962e2000304')\n",
    "%store -r ensemble\n",
    "%store -r kaggle_dataset\n",
    "\n",
    "# BATCH PREDICTION\n",
    "\n",
    "kaggle_test = api.create_batch_prediction(ensemble, kaggle_dataset,{\"all_fields\": True,\n",
    "                                                                    \"header\": True,\n",
    "                                                                    \"confidence\": True, \n",
    "                                                                    \"probabilities\":True})\n",
    "api.ok(kaggle_test)"
   ]
  },
  {
   "cell_type": "code",
   "execution_count": 3,
   "metadata": {},
   "outputs": [
    {
     "data": {
      "text/plain": [
       "'BatchPrediction/EnvoiKaggle.csv'"
      ]
     },
     "execution_count": 3,
     "metadata": {},
     "output_type": "execute_result"
    }
   ],
   "source": [
    "# FICHIER CSV\n",
    "\n",
    "api.download_batch_prediction(kaggle_test, filename='BatchPrediction/EnvoiKaggle.csv')"
   ]
  },
  {
   "cell_type": "markdown",
   "metadata": {},
   "source": [
    "### Préparation à l'envoi sur Kaggle"
   ]
  },
  {
   "cell_type": "markdown",
   "metadata": {},
   "source": [
    "* Import du fichier"
   ]
  },
  {
   "cell_type": "code",
   "execution_count": 4,
   "metadata": {},
   "outputs": [],
   "source": [
    "# IMPORT DU FICHIER\n",
    "prediction = read_csv('BatchPrediction/EnvoiKaggle.csv', index_col=False)"
   ]
  },
  {
   "cell_type": "markdown",
   "metadata": {},
   "source": [
    "* Préparation d'un dataframe pour l'export"
   ]
  },
  {
   "cell_type": "code",
   "execution_count": 5,
   "metadata": {},
   "outputs": [],
   "source": [
    "# MODIFICATION AVEC COLONES ID ET PROBABILITY\n",
    "\n",
    "from pandas import DataFrame\n",
    "kaggle_prediction=DataFrame()\n",
    "kaggle_prediction['Id']=prediction['Unnamed: 0']\n",
    "kaggle_prediction['Probability']=prediction['1 probability']"
   ]
  },
  {
   "cell_type": "markdown",
   "metadata": {},
   "source": [
    "### Envoi à Kaggle"
   ]
  },
  {
   "cell_type": "code",
   "execution_count": null,
   "metadata": {},
   "outputs": [],
   "source": [
    "# EXPORT\n",
    "\n",
    "import kaggle\n",
    "kaggle_prediction_file=\"kaggle_prediction.csv\"\n",
    "kaggle_prediction.to_csv(kaggle_prediction_file, index=False)\n",
    "kaggle.api.competition_submit(kaggle_prediction_file, \"BigML ensemble\", \"GiveMeSomeCredit\")"
   ]
  }
 ],
 "metadata": {
  "kernelspec": {
   "display_name": "Python 3",
   "language": "python",
   "name": "python3"
  },
  "language_info": {
   "codemirror_mode": {
    "name": "ipython",
    "version": 3
   },
   "file_extension": ".py",
   "mimetype": "text/x-python",
   "name": "python",
   "nbconvert_exporter": "python",
   "pygments_lexer": "ipython3",
   "version": "3.7.3"
  }
 },
 "nbformat": 4,
 "nbformat_minor": 2
}
