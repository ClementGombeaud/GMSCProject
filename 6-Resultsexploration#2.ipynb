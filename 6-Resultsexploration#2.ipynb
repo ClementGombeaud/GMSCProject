{
 "cells": [
  {
   "cell_type": "markdown",
   "metadata": {},
   "source": [
    "# Give Me Some Credits"
   ]
  },
  {
   "cell_type": "markdown",
   "metadata": {},
   "source": [
    "# 6 - Results Exploration #2"
   ]
  },
  {
   "cell_type": "markdown",
   "metadata": {},
   "source": [
    "* Calculs sur la Matrice de gain"
   ]
  },
  {
   "cell_type": "code",
   "execution_count": 12,
   "metadata": {},
   "outputs": [],
   "source": [
    "from bigml.api import BigML\n",
    "from pandas import read_csv\n",
    "df = read_csv('BatchPrediction/GMSC_Prediction_Ensemble.csv')\n",
    "\n",
    "%store -r TP\n",
    "%store -r TN\n",
    "%store -r FP\n",
    "%store -r FN"
   ]
  },
  {
   "cell_type": "code",
   "execution_count": 13,
   "metadata": {},
   "outputs": [
    {
     "name": "stdout",
     "output_type": "stream",
     "text": [
      "Vous avez empoché: 9547000 $\n"
     ]
    }
   ],
   "source": [
    "#AVEC SEUIL = 0.5\n",
    "gain = (TP * 0) + (TN * 500) - (FP * 500) - (FN * 2500)\n",
    "print(\"Vous avez empoché:\", gain,\"$\")"
   ]
  },
  {
   "cell_type": "markdown",
   "metadata": {},
   "source": [
    "* Création de la fonction optimisant le seuil pour une meilleure matrice de gain"
   ]
  },
  {
   "cell_type": "code",
   "execution_count": 14,
   "metadata": {},
   "outputs": [],
   "source": [
    "def cost_threshold(seuil):\n",
    "    prediction_threshold = df['1 probability'] > seuil\n",
    "\n",
    "    #~ = \"not\" pour les tableaux / & = \"and\" pour les tableaux / | = \"or\" pour les tableaux\n",
    "\n",
    "    P_pred = prediction_threshold\n",
    "    N_pred = ~prediction_threshold\n",
    "\n",
    "    P_real = (df['SeriousDlqin2yrs'] == 1)\n",
    "    N_real = (df['SeriousDlqin2yrs'] == 0)\n",
    "\n",
    "    TP = len(df.loc[P_pred & P_real])\n",
    "    TN = len(df.loc[N_pred & N_real])\n",
    "    FP = len(df.loc[P_pred & N_real])\n",
    "    FN = len(df.loc[N_pred & P_real])\n",
    "\n",
    "    TP_cost = 0\n",
    "    FN_cost = -2500\n",
    "    FP_cost = -500\n",
    "    TN_cost = 500\n",
    "\n",
    "    cost = TP * TP_cost\n",
    "    cost += TN * TN_cost\n",
    "    cost += FP * FP_cost\n",
    "    cost += FN * FN_cost\n",
    "    return cost"
   ]
  },
  {
   "cell_type": "markdown",
   "metadata": {},
   "source": [
    "* Visualisation du seuil optimal en 1000 intervalles entre 0 et 1."
   ]
  },
  {
   "cell_type": "code",
   "execution_count": 15,
   "metadata": {},
   "outputs": [
    {
     "name": "stdout",
     "output_type": "stream",
     "text": [
      "Le gain maximum est 9972000 et il est obtenu avec un seuil de 0.093\n"
     ]
    },
    {
     "data": {
      "image/png": "[encoded data removed]",
      "text/plain": [
       "<Figure size 432x288 with 1 Axes>"
      ]
     },
     "metadata": {
      "needs_background": "light"
     },
     "output_type": "display_data"
    }
   ],
   "source": [
    "import matplotlib.pyplot as plt\n",
    "\n",
    "table = [cost_threshold(n/1000) for n in range(0,1000)]\n",
    "plt.plot(table)\n",
    "\n",
    "max_val = max(table)\n",
    "max_threshold = table.index(max_val)/3000\n",
    "print(f'Le gain maximum est {max_val} et il est obtenu avec un seuil de {max_threshold}')"
   ]
  },
  {
   "cell_type": "markdown",
   "metadata": {},
   "source": [
    "* Calcul de l'AUC sur le modèle ensemble"
   ]
  },
  {
   "cell_type": "code",
   "execution_count": 16,
   "metadata": {},
   "outputs": [
    {
     "name": "stdout",
     "output_type": "stream",
     "text": [
      "2015\n",
      "27985\n",
      "48209231\n",
      "AUC=  0.8549285929940312\n"
     ]
    }
   ],
   "source": [
    "ln1=df['SeriousDlqin2yrs'].sum(axis =0)\n",
    "print(ln1)\n",
    "df1 = df['1 probability'] * df['SeriousDlqin2yrs']\n",
    "\n",
    "df0 = df['SeriousDlqin2yrs'] + 1\n",
    "df0 = df0.apply(lambda x: 0 if x == 2 else 1)\n",
    "ln2=df0.sum(axis =0)\n",
    "print(ln2)\n",
    "df0 = df['1 probability'] * df0\n",
    "\n",
    "\n",
    "nb1=0\n",
    "for r1 in df1:\n",
    "    if r1 > 0:\n",
    "        for r2 in df0:\n",
    "            if r1 > r2 and r2!=0:\n",
    "                nb1 = nb1 + 1\n",
    "print(nb1)\n",
    "print(\"AUC= \", nb1/(ln1*ln2))"
   ]
  }
 ],
 "metadata": {
  "kernelspec": {
   "display_name": "Python 3",
   "language": "python",
   "name": "python3"
  },
  "language_info": {
   "codemirror_mode": {
    "name": "ipython",
    "version": 3
   },
   "file_extension": ".py",
   "mimetype": "text/x-python",
   "name": "python",
   "nbconvert_exporter": "python",
   "pygments_lexer": "ipython3",
   "version": "3.7.3"
  }
 },
 "nbformat": 4,
 "nbformat_minor": 2
}
