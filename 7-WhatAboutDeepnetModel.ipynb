{
 "cells": [
  {
   "cell_type": "markdown",
   "metadata": {},
   "source": [
    "# Give Me Some Credits"
   ]
  },
  {
   "cell_type": "markdown",
   "metadata": {},
   "source": [
    "# 7 - What about deepnet model?"
   ]
  },
  {
   "cell_type": "code",
   "execution_count": 2,
   "metadata": {},
   "outputs": [],
   "source": [
    "from bigml.api import BigML\n",
    "from pandas import read_csv\n",
    "%store -r train_dataset\n",
    "%store -r test_dataset\n",
    "\n",
    "api = BigML(project='project/5d94a3e85a213962e2000304')\n",
    "\n",
    "# MODELE DEEPNET\n",
    "\n",
    "\n",
    "deepnet = api.create_deepnet(train_dataset , {\"objective_field\" : \"SeriousDlqin2yrs\"})\n",
    "\n",
    "evaluation = api.create_evaluation(deepnet, test_dataset)"
   ]
  },
  {
   "cell_type": "code",
   "execution_count": 3,
   "metadata": {},
   "outputs": [
    {
     "data": {
      "text/plain": [
       "'BatchPrediction/GMSC_Prediction_Deepnet.csv'"
      ]
     },
     "execution_count": 3,
     "metadata": {},
     "output_type": "execute_result"
    }
   ],
   "source": [
    "# BATCH PREDICTION DEEPNET\n",
    "batch_prediction = api.create_batch_prediction(deepnet, test_dataset,{\"all_fields\": True,\n",
    "                                                                        \"header\": True,\n",
    "                                                                      \"confidence\": True,\n",
    "                                                                      \"probabilities\":True})\n",
    "api.ok(batch_prediction)\n",
    "\n",
    "# FICHIER CSV\n",
    "\n",
    "api.download_batch_prediction(batch_prediction, filename='BatchPrediction/GMSC_Prediction_Deepnet.csv')"
   ]
  },
  {
   "cell_type": "code",
   "execution_count": 6,
   "metadata": {},
   "outputs": [],
   "source": [
    "df3 = read_csv('BatchPrediction/GMSC_Prediction_deepnet.csv')\n",
    "def cost_threshold(seuil):\n",
    "    prediction_threshold = df3['1 probability'] > seuil\n",
    "\n",
    "    P_pred = prediction_threshold\n",
    "    N_pred = ~prediction_threshold\n",
    "\n",
    "    P_real = (df3['SeriousDlqin2yrs'] == 1)\n",
    "    N_real = (df3['SeriousDlqin2yrs'] == 0)\n",
    "\n",
    "    TP = len(df3.loc[P_pred & P_real])\n",
    "    TN = len(df3.loc[N_pred & N_real])\n",
    "    FP = len(df3.loc[P_pred & N_real])\n",
    "    FN = len(df3.loc[N_pred & P_real])\n",
    "\n",
    "    TP_cost = 0\n",
    "    FN_cost = -2500\n",
    "    FP_cost = -500\n",
    "    TN_cost = 500\n",
    "\n",
    "    cost = TP * TP_cost\n",
    "    cost += TN * TN_cost\n",
    "    cost += FP * FP_cost\n",
    "    cost += FN * FN_cost\n",
    "    return cost"
   ]
  },
  {
   "cell_type": "code",
   "execution_count": 7,
   "metadata": {},
   "outputs": [
    {
     "name": "stdout",
     "output_type": "stream",
     "text": [
      "Le gain maximum est 9822500 et il est obtenu avec un seuil de 0.149\n"
     ]
    },
    {
     "data": {
      "image/png": "[encoded data removed]",
      "text/plain": [
       "<Figure size 432x288 with 1 Axes>"
      ]
     },
     "metadata": {
      "needs_background": "light"
     },
     "output_type": "display_data"
    }
   ],
   "source": [
    "import matplotlib.pyplot as plt\n",
    "\n",
    "table = [cost_threshold(n/1000) for n in range(0,1000)]\n",
    "plt.plot(table)\n",
    "\n",
    "max_val = max(table)\n",
    "max_threshold = table.index(max_val)/3000\n",
    "print(f'Le gain maximum est {max_val} et il est obtenu avec un seuil de {max_threshold}')"
   ]
  }
 ],
 "metadata": {
  "kernelspec": {
   "display_name": "Python 3",
   "language": "python",
   "name": "python3"
  },
  "language_info": {
   "codemirror_mode": {
    "name": "ipython",
    "version": 3
   },
   "file_extension": ".py",
   "mimetype": "text/x-python",
   "name": "python",
   "nbconvert_exporter": "python",
   "pygments_lexer": "ipython3",
   "version": "3.7.3"
  }
 },
 "nbformat": 4,
 "nbformat_minor": 2
}
